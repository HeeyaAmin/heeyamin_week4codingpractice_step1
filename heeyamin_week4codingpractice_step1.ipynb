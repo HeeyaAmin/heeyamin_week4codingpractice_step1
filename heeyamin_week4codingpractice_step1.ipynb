{
 "cells": [
  {
   "cell_type": "code",
   "execution_count": 63,
   "id": "932c9787-893f-4ce8-81b1-472454f5a492",
   "metadata": {},
   "outputs": [],
   "source": [
    "# Setup Connection to MySQL (Sakila)\n",
    "\n",
    "import pandas as pd\n",
    "import mysql.connector\n",
    "\n",
    "conn = {\n",
    "    'user': 'root',\n",
    "    'password': 'root',\n",
    "    'host': 'localhost',\n",
    "    'port': 8889,\n",
    "    'database': 'sakila',  # <--- This needs to match your actual DB name\n",
    "    'raise_on_warnings': True\n",
    "}\n"
   ]
  },
  {
   "cell_type": "code",
   "execution_count": 65,
   "id": "fa330063-7896-4ca9-94af-6be21d651219",
   "metadata": {},
   "outputs": [],
   "source": [
    "# The below method establishes the session with MySQL server \n",
    "mydb = mysql.connector.connect(**conn)"
   ]
  },
  {
   "cell_type": "code",
   "execution_count": 67,
   "id": "cdaeb969-598a-4d04-a7b9-a5cc4bdcad94",
   "metadata": {},
   "outputs": [],
   "source": [
    "# Cursor object executes the SQL statements and interact with the MySQL server using a MySQLConnection object\n",
    "cursor = mydb.cursor(dictionary=True)"
   ]
  },
  {
   "cell_type": "markdown",
   "id": "2c3844d8-a323-492e-9139-097b7a8b307e",
   "metadata": {},
   "source": [
    "# CHAPTER 5"
   ]
  },
  {
   "cell_type": "code",
   "execution_count": 47,
   "id": "2eb8e3bf-6cdc-407e-8528-33616457ae6d",
   "metadata": {},
   "outputs": [
    {
     "name": "stdout",
     "output_type": "stream",
     "text": [
      "Payment ID: 1, Original Amount: $2.99, Amount with Service Fee: $4.99\n",
      "Payment ID: 2, Original Amount: $0.99, Amount with Service Fee: $2.99\n",
      "Payment ID: 3, Original Amount: $5.99, Amount with Service Fee: $7.99\n",
      "Payment ID: 4, Original Amount: $0.99, Amount with Service Fee: $2.99\n",
      "Payment ID: 5, Original Amount: $9.99, Amount with Service Fee: $11.99\n",
      "Payment ID: 6, Original Amount: $4.99, Amount with Service Fee: $6.99\n",
      "Payment ID: 7, Original Amount: $4.99, Amount with Service Fee: $6.99\n",
      "Payment ID: 8, Original Amount: $0.99, Amount with Service Fee: $2.99\n",
      "Payment ID: 9, Original Amount: $3.99, Amount with Service Fee: $5.99\n",
      "Payment ID: 10, Original Amount: $5.99, Amount with Service Fee: $7.99\n"
     ]
    }
   ],
   "source": [
    "# Adding Two Columns in payment Table\n",
    "# We can add amount (payment amount) with a hypothetical service_fee of 2.00 (just for the math example). This allows you to validate that the final column is correctly computed.\n",
    "\n",
    "query = \"\"\"\n",
    "SELECT payment_id,\n",
    "       amount,\n",
    "       amount + 2 AS amount_with_service_fee\n",
    "FROM payment\n",
    "LIMIT 10;\n",
    "\"\"\"\n",
    "cursor.execute(query)\n",
    "for row in cursor.fetchall():\n",
    "    print(f\"Payment ID: {row['payment_id']}, Original Amount: ${row['amount']:.2f}, Amount with Service Fee: ${row['amount_with_service_fee']:.2f}\")\n",
    "\n"
   ]
  },
  {
   "cell_type": "code",
   "execution_count": 51,
   "id": "6d9aa1d2-e578-4707-a168-8dfdf4e6ebd4",
   "metadata": {},
   "outputs": [
    {
     "name": "stdout",
     "output_type": "stream",
     "text": [
      "\n",
      "Payment Amount as Percentage of Average Payment:\n",
      "Payment ID: 1, Amount: $2.99, Percentage of Average: 71.17%\n",
      "Payment ID: 2, Amount: $0.99, Percentage of Average: 23.56%\n",
      "Payment ID: 3, Amount: $5.99, Percentage of Average: 142.57%\n",
      "Payment ID: 4, Amount: $0.99, Percentage of Average: 23.56%\n",
      "Payment ID: 5, Amount: $9.99, Percentage of Average: 237.78%\n",
      "Payment ID: 6, Amount: $4.99, Percentage of Average: 118.77%\n",
      "Payment ID: 7, Amount: $4.99, Percentage of Average: 118.77%\n",
      "Payment ID: 8, Amount: $0.99, Percentage of Average: 23.56%\n",
      "Payment ID: 9, Amount: $3.99, Percentage of Average: 94.97%\n",
      "Payment ID: 10, Amount: $5.99, Percentage of Average: 142.57%\n"
     ]
    }
   ],
   "source": [
    "# calculating percentage and Tracking Percent Change\n",
    "\n",
    "# percentage of each payment amount compared to the average payment amount across all rows. This can help you analyze how much each payment deviates from the average — useful for detecting large or small transactions relative to the typical payment.\n",
    "\n",
    "\n",
    "# Step 1 - Calculate Average Payment (needed for the percentage calculation)\n",
    "query = \"\"\"\n",
    "SELECT AVG(amount) AS avg_payment FROM payment\n",
    "\"\"\"\n",
    "cursor.execute(query)\n",
    "avg_payment = cursor.fetchone()['avg_payment']\n",
    "\n",
    "# Step 2 - Fetch Payment Amounts and Calculate Percentage of Average for Each\n",
    "query = \"\"\"\n",
    "SELECT payment_id, amount\n",
    "FROM payment\n",
    "LIMIT 10\n",
    "\"\"\"\n",
    "cursor.execute(query)\n",
    "\n",
    "print(\"\\nPayment Amount as Percentage of Average Payment:\")\n",
    "for row in cursor.fetchall():\n",
    "    percentage_of_avg = (row['amount'] / avg_payment) * 100\n",
    "    print(f\"Payment ID: {row['payment_id']}, Amount: ${row['amount']:.2f}, Percentage of Average: {percentage_of_avg:.2f}%\")"
   ]
  },
  {
   "cell_type": "code",
   "execution_count": 53,
   "id": "8384e8ab-d083-47e0-acf1-9477f644e6c2",
   "metadata": {
    "scrolled": true
   },
   "outputs": [
    {
     "name": "stdout",
     "output_type": "stream",
     "text": [
      "Total Revenue: $67406.56\n",
      "Average Payment: $4.20\n",
      "\n",
      "Median Payment: $3.99\n",
      "\n",
      "Mode Payment Amount: $4.99, Frequency: 3789 times\n"
     ]
    }
   ],
   "source": [
    "\n",
    "# Aggregate Functions - Total and Average Payment Amount\n",
    "query = \"\"\"\n",
    "SELECT \n",
    "    SUM(amount) AS total_revenue,\n",
    "    ROUND(AVG(amount), 2) AS avg_payment\n",
    "FROM payment\n",
    "\"\"\"\n",
    "cursor.execute(query)\n",
    "agg_result = cursor.fetchone()\n",
    "\n",
    "print(f\"Total Revenue: ${agg_result['total_revenue']:.2f}\")\n",
    "print(f\"Average Payment: ${agg_result['avg_payment']:.2f}\")\n",
    "\n",
    "# Finding the Median Payment (manual since MySQL lacks direct MEDIAN())\n",
    "query = \"\"\"\n",
    "SELECT amount\n",
    "FROM payment\n",
    "ORDER BY amount\n",
    "\"\"\"\n",
    "cursor.execute(query)\n",
    "\n",
    "amounts = [row['amount'] for row in cursor.fetchall()]\n",
    "\n",
    "median_amount = amounts[len(amounts) // 2]\n",
    "print(f\"\\nMedian Payment: ${median_amount:.2f}\")\n",
    "\n",
    "# Finding the Mode (most frequent payment amount)\n",
    "query = \"\"\"\n",
    "SELECT amount, COUNT(*) AS frequency\n",
    "FROM payment\n",
    "GROUP BY amount\n",
    "ORDER BY frequency DESC\n",
    "LIMIT 1\n",
    "\"\"\"\n",
    "cursor.execute(query)\n",
    "mode_result = cursor.fetchone()\n",
    "\n",
    "print(f\"\\nMode Payment Amount: ${mode_result['amount']:.2f}, Frequency: {mode_result['frequency']} times\")\n"
   ]
  },
  {
   "cell_type": "code",
   "execution_count": 69,
   "id": "0662263d-22ee-4217-a719-08aaed543378",
   "metadata": {
    "scrolled": true
   },
   "outputs": [
    {
     "name": "stdout",
     "output_type": "stream",
     "text": [
      "\n",
      "Median Payment Amount (via function): $3.99\n",
      "\n",
      "Quartiles:\n",
      "25th Percentile (Q1): $2.99\n",
      "50th Percentile (Median, Q2): $3.99\n",
      "75th Percentile (Q3): $4.99\n",
      "\n",
      "Extra Percentiles:\n",
      "10th Percentile: $0.99\n",
      "90th Percentile: $6.99\n",
      "\n",
      "✅ Median function + quantiles calculated successfully!\n"
     ]
    }
   ],
   "source": [
    "\n",
    "# 1️⃣ Fetch All Payment Amounts (ordered) - required for median/quantiles\n",
    "query = \"\"\"\n",
    "SELECT amount\n",
    "FROM payment\n",
    "ORDER BY amount\n",
    "\"\"\"\n",
    "cursor.execute(query)\n",
    "amounts = [row['amount'] for row in cursor.fetchall()]\n",
    "\n",
    "# 2️⃣ Define Python Function to Calculate Median\n",
    "def calculate_median(values):\n",
    "    n = len(values)\n",
    "    if n % 2 == 1:\n",
    "        return values[n // 2]\n",
    "    else:\n",
    "        return (values[n // 2 - 1] + values[n // 2]) / 2\n",
    "\n",
    "median_amount = calculate_median(amounts)\n",
    "print(f\"\\nMedian Payment Amount (via function): ${median_amount:.2f}\")\n",
    "\n",
    "# 3️⃣ Define Python Function to Calculate Any Quantile\n",
    "def calculate_quantile(values, quantile):\n",
    "    index = int(len(values) * quantile)\n",
    "    return values[index]\n",
    "\n",
    "# 4️⃣ Calculate Quartiles (25%, 50%, 75%)\n",
    "q1 = calculate_quantile(amounts, 0.25)\n",
    "q2 = median_amount  # This is the 50th percentile\n",
    "q3 = calculate_quantile(amounts, 0.75)\n",
    "\n",
    "print(\"\\nQuartiles:\")\n",
    "print(f\"25th Percentile (Q1): ${q1:.2f}\")\n",
    "print(f\"50th Percentile (Median, Q2): ${q2:.2f}\")\n",
    "print(f\"75th Percentile (Q3): ${q3:.2f}\")\n",
    "\n",
    "# 5️⃣ Calculate Additional Percentiles (10%, 90%)\n",
    "p10 = calculate_quantile(amounts, 0.10)\n",
    "p90 = calculate_quantile(amounts, 0.90)\n",
    "\n",
    "print(\"\\nExtra Percentiles:\")\n",
    "print(f\"10th Percentile: ${p10:.2f}\")\n",
    "print(f\"90th Percentile: ${p90:.2f}\")\n",
    "\n",
    "\n",
    "\n",
    "print(\"\\n✅ Median function + quantiles calculated successfully!\")\n"
   ]
  },
  {
   "cell_type": "markdown",
   "id": "58a0e979-0137-48fe-af2e-a0362d9b3dcd",
   "metadata": {},
   "source": [
    "# CHAPTER 6"
   ]
  },
  {
   "cell_type": "markdown",
   "id": "8f272092-c395-42b0-bfa3-29f5cecf0e6c",
   "metadata": {},
   "source": [
    "This chapter is all about JOINs, table relationships, and performing math across joined tables — so we’ll adapt all of that for the Sakila database."
   ]
  },
  {
   "cell_type": "code",
   "execution_count": 83,
   "id": "8ec5f13e-eab1-40e9-b510-9edd9b1d7127",
   "metadata": {},
   "outputs": [
    {
     "name": "stdout",
     "output_type": "stream",
     "text": [
      "{'rental_id': 76, 'first_name': 'MARY', 'last_name': 'SMITH', 'rental_date': datetime.datetime(2005, 5, 25, 11, 30, 37)}\n",
      "{'rental_id': 573, 'first_name': 'MARY', 'last_name': 'SMITH', 'rental_date': datetime.datetime(2005, 5, 28, 10, 35, 23)}\n",
      "{'rental_id': 1185, 'first_name': 'MARY', 'last_name': 'SMITH', 'rental_date': datetime.datetime(2005, 6, 15, 0, 54, 12)}\n",
      "{'rental_id': 1422, 'first_name': 'MARY', 'last_name': 'SMITH', 'rental_date': datetime.datetime(2005, 6, 15, 18, 2, 53)}\n",
      "{'rental_id': 1476, 'first_name': 'MARY', 'last_name': 'SMITH', 'rental_date': datetime.datetime(2005, 6, 15, 21, 8, 46)}\n",
      "{'rental_id': 1725, 'first_name': 'MARY', 'last_name': 'SMITH', 'rental_date': datetime.datetime(2005, 6, 16, 15, 18, 57)}\n",
      "{'rental_id': 2308, 'first_name': 'MARY', 'last_name': 'SMITH', 'rental_date': datetime.datetime(2005, 6, 18, 8, 41, 48)}\n",
      "{'rental_id': 2363, 'first_name': 'MARY', 'last_name': 'SMITH', 'rental_date': datetime.datetime(2005, 6, 18, 13, 33, 59)}\n",
      "{'rental_id': 3284, 'first_name': 'MARY', 'last_name': 'SMITH', 'rental_date': datetime.datetime(2005, 6, 21, 6, 24, 45)}\n",
      "{'rental_id': 4526, 'first_name': 'MARY', 'last_name': 'SMITH', 'rental_date': datetime.datetime(2005, 7, 8, 3, 17, 5)}\n"
     ]
    }
   ],
   "source": [
    "# Basic Inner Join (Rental + Customer)\n",
    "query = \"\"\"\n",
    "SELECT rental.rental_id, customer.first_name, customer.last_name, rental.rental_date\n",
    "FROM rental\n",
    "JOIN customer ON rental.customer_id = customer.customer_id\n",
    "LIMIT 10;\n",
    "\"\"\"\n",
    "cursor.execute(query)\n",
    "for row in cursor.fetchall():\n",
    "    print(row)\n"
   ]
  },
  {
   "cell_type": "code",
   "execution_count": 81,
   "id": "04db189e-0655-4d6d-b738-ad4598b61c53",
   "metadata": {},
   "outputs": [
    {
     "name": "stdout",
     "output_type": "stream",
     "text": [
      "{'rental_id': 76, 'first_name': 'MARY', 'amount': Decimal('2.99')}\n",
      "{'rental_id': 573, 'first_name': 'MARY', 'amount': Decimal('0.99')}\n",
      "{'rental_id': 1185, 'first_name': 'MARY', 'amount': Decimal('5.99')}\n",
      "{'rental_id': 1422, 'first_name': 'MARY', 'amount': Decimal('0.99')}\n",
      "{'rental_id': 1476, 'first_name': 'MARY', 'amount': Decimal('9.99')}\n",
      "{'rental_id': 1725, 'first_name': 'MARY', 'amount': Decimal('4.99')}\n",
      "{'rental_id': 2308, 'first_name': 'MARY', 'amount': Decimal('4.99')}\n",
      "{'rental_id': 2363, 'first_name': 'MARY', 'amount': Decimal('0.99')}\n",
      "{'rental_id': 3284, 'first_name': 'MARY', 'amount': Decimal('3.99')}\n",
      "{'rental_id': 4526, 'first_name': 'MARY', 'amount': Decimal('5.99')}\n"
     ]
    }
   ],
   "source": [
    "# Left Join (All Rentals + Payment Info if Exists)\n",
    "query = \"\"\"\n",
    "SELECT rental.rental_id, customer.first_name, payment.amount\n",
    "FROM rental\n",
    "LEFT JOIN payment ON rental.rental_id = payment.rental_id\n",
    "JOIN customer ON rental.customer_id = customer.customer_id\n",
    "LIMIT 10;\n",
    "\"\"\"\n",
    "cursor.execute(query)\n",
    "for row in cursor.fetchall():\n",
    "    print(row)\n"
   ]
  },
  {
   "cell_type": "code",
   "execution_count": 87,
   "id": "6b3fd02c-65fb-47aa-a4d3-68d7f32aac0c",
   "metadata": {},
   "outputs": [
    {
     "name": "stdout",
     "output_type": "stream",
     "text": [
      "{'payment_id': 3504, 'rental_date': datetime.datetime(2005, 5, 24, 22, 53, 30), 'amount': Decimal('2.99')}\n",
      "{'payment_id': 12377, 'rental_date': datetime.datetime(2005, 5, 24, 22, 54, 33), 'amount': Decimal('2.99')}\n",
      "{'payment_id': 11032, 'rental_date': datetime.datetime(2005, 5, 24, 23, 3, 39), 'amount': Decimal('3.99')}\n",
      "{'payment_id': 8987, 'rental_date': datetime.datetime(2005, 5, 24, 23, 4, 41), 'amount': Decimal('4.99')}\n",
      "{'payment_id': 6003, 'rental_date': datetime.datetime(2005, 5, 24, 23, 5, 21), 'amount': Decimal('6.99')}\n",
      "{'payment_id': 14728, 'rental_date': datetime.datetime(2005, 5, 24, 23, 8, 7), 'amount': Decimal('0.99')}\n",
      "{'payment_id': 7274, 'rental_date': datetime.datetime(2005, 5, 24, 23, 11, 53), 'amount': Decimal('1.99')}\n",
      "{'payment_id': 6440, 'rental_date': datetime.datetime(2005, 5, 24, 23, 31, 46), 'amount': Decimal('4.99')}\n",
      "{'payment_id': 3386, 'rental_date': datetime.datetime(2005, 5, 25, 0, 0, 40), 'amount': Decimal('4.99')}\n",
      "{'payment_id': 10785, 'rental_date': datetime.datetime(2005, 5, 25, 0, 2, 21), 'amount': Decimal('5.99')}\n"
     ]
    }
   ],
   "source": [
    " # Right Join Equivalent (MySQL Note)\n",
    "query = \"\"\"\n",
    "SELECT payment.payment_id, rental.rental_date, payment.amount\n",
    "FROM payment\n",
    "RIGHT JOIN rental ON rental.rental_id = payment.rental_id\n",
    "LIMIT 10;\n",
    "\"\"\"\n",
    "cursor.execute(query)\n",
    "for row in cursor.fetchall():\n",
    "    print(row)\n"
   ]
  },
  {
   "cell_type": "code",
   "execution_count": 89,
   "id": "88ef0a9e-1267-425b-ab02-ff7a9e77d38c",
   "metadata": {},
   "outputs": [
    {
     "name": "stdout",
     "output_type": "stream",
     "text": [
      "{'rental_id': 76, 'first_name': 'MARY', 'last_name': 'SMITH', 'amount': Decimal('2.99')}\n",
      "{'rental_id': 573, 'first_name': 'MARY', 'last_name': 'SMITH', 'amount': Decimal('0.99')}\n",
      "{'rental_id': 1185, 'first_name': 'MARY', 'last_name': 'SMITH', 'amount': Decimal('5.99')}\n",
      "{'rental_id': 1422, 'first_name': 'MARY', 'last_name': 'SMITH', 'amount': Decimal('0.99')}\n",
      "{'rental_id': 1476, 'first_name': 'MARY', 'last_name': 'SMITH', 'amount': Decimal('9.99')}\n",
      "{'rental_id': 1725, 'first_name': 'MARY', 'last_name': 'SMITH', 'amount': Decimal('4.99')}\n",
      "{'rental_id': 2308, 'first_name': 'MARY', 'last_name': 'SMITH', 'amount': Decimal('4.99')}\n",
      "{'rental_id': 2363, 'first_name': 'MARY', 'last_name': 'SMITH', 'amount': Decimal('0.99')}\n",
      "{'rental_id': 3284, 'first_name': 'MARY', 'last_name': 'SMITH', 'amount': Decimal('3.99')}\n",
      "{'rental_id': 4526, 'first_name': 'MARY', 'last_name': 'SMITH', 'amount': Decimal('5.99')}\n"
     ]
    }
   ],
   "source": [
    "# Full Outer Join Equivalent (MySQL Workaround)\n",
    "query = \"\"\"\n",
    "SELECT rental.rental_id, customer.first_name, customer.last_name, payment.amount\n",
    "FROM rental\n",
    "LEFT JOIN payment ON rental.rental_id = payment.rental_id\n",
    "JOIN customer ON rental.customer_id = customer.customer_id\n",
    "\n",
    "UNION\n",
    "\n",
    "SELECT rental.rental_id, customer.first_name, customer.last_name, payment.amount\n",
    "FROM payment\n",
    "RIGHT JOIN rental ON rental.rental_id = payment.rental_id\n",
    "JOIN customer ON rental.customer_id = customer.customer_id\n",
    "LIMIT 10;\n",
    "\"\"\"\n",
    "cursor.execute(query)\n",
    "for row in cursor.fetchall():\n",
    "    print(row)\n"
   ]
  },
  {
   "cell_type": "code",
   "execution_count": 91,
   "id": "c335764b-054d-4291-9f80-9ae3dabe7380",
   "metadata": {},
   "outputs": [
    {
     "name": "stdout",
     "output_type": "stream",
     "text": [
      "{'first_name': 'AUSTIN', 'last_name': 'CINTRON', 'title': 'ACADEMY DINOSAUR'}\n",
      "{'first_name': 'WADE', 'last_name': 'DELVALLE', 'title': 'ACADEMY DINOSAUR'}\n",
      "{'first_name': 'FREDDIE', 'last_name': 'DUGGAN', 'title': 'ACADEMY DINOSAUR'}\n",
      "{'first_name': 'ENRIQUE', 'last_name': 'FORSYTHE', 'title': 'ACADEMY DINOSAUR'}\n",
      "{'first_name': 'TERRENCE', 'last_name': 'GUNDERSON', 'title': 'ACADEMY DINOSAUR'}\n",
      "{'first_name': 'EDUARDO', 'last_name': 'HIATT', 'title': 'ACADEMY DINOSAUR'}\n",
      "{'first_name': 'RENE', 'last_name': 'MCALISTER', 'title': 'ACADEMY DINOSAUR'}\n",
      "{'first_name': 'TERRANCE', 'last_name': 'ROUSH', 'title': 'ACADEMY DINOSAUR'}\n",
      "{'first_name': 'KENT', 'last_name': 'ARSENAULT', 'title': 'ACADEMY DINOSAUR'}\n",
      "{'first_name': 'SETH', 'last_name': 'HANNON', 'title': 'ACADEMY DINOSAUR'}\n"
     ]
    }
   ],
   "source": [
    "# Cross Join (Cartesian Product)\n",
    "query = \"\"\"\n",
    "SELECT customer.first_name, customer.last_name, film.title\n",
    "FROM customer\n",
    "CROSS JOIN film\n",
    "LIMIT 10;\n",
    "\"\"\"\n",
    "cursor.execute(query)\n",
    "for row in cursor.fetchall():\n",
    "    print(row)\n"
   ]
  },
  {
   "cell_type": "code",
   "execution_count": 93,
   "id": "02335f03-5e28-4a7f-a024-ebd206e2f38e",
   "metadata": {},
   "outputs": [
    {
     "name": "stdout",
     "output_type": "stream",
     "text": [
      "{'customer_id': 526, 'first_name': 'KARL', 'last_name': 'SEAL', 'total_spent': Decimal('221.55')}\n",
      "{'customer_id': 148, 'first_name': 'ELEANOR', 'last_name': 'HUNT', 'total_spent': Decimal('216.54')}\n",
      "{'customer_id': 144, 'first_name': 'CLARA', 'last_name': 'SHAW', 'total_spent': Decimal('195.58')}\n",
      "{'customer_id': 137, 'first_name': 'RHONDA', 'last_name': 'KENNEDY', 'total_spent': Decimal('194.61')}\n",
      "{'customer_id': 178, 'first_name': 'MARION', 'last_name': 'SNYDER', 'total_spent': Decimal('194.61')}\n",
      "{'customer_id': 459, 'first_name': 'TOMMY', 'last_name': 'COLLAZO', 'total_spent': Decimal('186.62')}\n",
      "{'customer_id': 469, 'first_name': 'WESLEY', 'last_name': 'BULL', 'total_spent': Decimal('177.60')}\n",
      "{'customer_id': 468, 'first_name': 'TIM', 'last_name': 'CARY', 'total_spent': Decimal('175.61')}\n",
      "{'customer_id': 236, 'first_name': 'MARCIA', 'last_name': 'DEAN', 'total_spent': Decimal('175.58')}\n",
      "{'customer_id': 181, 'first_name': 'ANA', 'last_name': 'BRADLEY', 'total_spent': Decimal('174.66')}\n"
     ]
    }
   ],
   "source": [
    "# Performing Math Across Joined Columns (Total Revenue Per Customer)\n",
    "query = \"\"\"\n",
    "SELECT customer.customer_id, customer.first_name, customer.last_name,\n",
    "       SUM(payment.amount) AS total_spent\n",
    "FROM customer\n",
    "JOIN payment ON customer.customer_id = payment.customer_id\n",
    "GROUP BY customer.customer_id\n",
    "ORDER BY total_spent DESC\n",
    "LIMIT 10;\n",
    "\"\"\"\n",
    "cursor.execute(query)\n",
    "for row in cursor.fetchall():\n",
    "    print(row)\n"
   ]
  },
  {
   "cell_type": "code",
   "execution_count": 97,
   "id": "f367d987-2de4-4f99-9d78-889f88afd113",
   "metadata": {},
   "outputs": [],
   "source": [
    "# Using IS NULL to Find Missing Data (Customers with No Payments)\n",
    "query = \"\"\"\n",
    "SELECT customer.customer_id, customer.first_name, customer.last_name\n",
    "FROM customer\n",
    "LEFT JOIN payment ON customer.customer_id = payment.customer_id\n",
    "WHERE payment.payment_id IS NULL\n",
    "LIMIT 10;\n",
    "\"\"\"\n",
    "cursor.execute(query)\n",
    "for row in cursor.fetchall():\n",
    "    print(row)\n"
   ]
  },
  {
   "cell_type": "code",
   "execution_count": 101,
   "id": "3d2fa685-404b-4859-9def-1d957bca64fa",
   "metadata": {},
   "outputs": [
    {
     "name": "stdout",
     "output_type": "stream",
     "text": [
      "{'customer_id': 5, 'year_2005': 2005, 'payment_2005': Decimal('143.63'), 'year_2006': 2006, 'payment_2006': Decimal('0.99'), 'percent_change': Decimal('-99.31')}\n",
      "{'customer_id': 9, 'year_2005': 2005, 'payment_2005': Decimal('84.78'), 'year_2006': 2006, 'payment_2006': Decimal('4.99'), 'percent_change': Decimal('-94.11')}\n",
      "{'customer_id': 11, 'year_2005': 2005, 'payment_2005': Decimal('105.77'), 'year_2006': 2006, 'payment_2006': Decimal('0.99'), 'percent_change': Decimal('-99.06')}\n",
      "{'customer_id': 14, 'year_2005': 2005, 'payment_2005': Decimal('112.73'), 'year_2006': 2006, 'payment_2006': Decimal('4.99'), 'percent_change': Decimal('-95.57')}\n",
      "{'customer_id': 15, 'year_2005': 2005, 'payment_2005': Decimal('130.70'), 'year_2006': 2006, 'payment_2006': Decimal('3.98'), 'percent_change': Decimal('-96.95')}\n",
      "{'customer_id': 21, 'year_2005': 2005, 'payment_2005': Decimal('152.66'), 'year_2006': 2006, 'payment_2006': Decimal('2.99'), 'percent_change': Decimal('-98.04')}\n",
      "{'customer_id': 22, 'year_2005': 2005, 'payment_2005': Decimal('108.79'), 'year_2006': 2006, 'payment_2006': Decimal('4.99'), 'percent_change': Decimal('-95.41')}\n",
      "{'customer_id': 23, 'year_2005': 2005, 'payment_2005': Decimal('116.71'), 'year_2006': 2006, 'payment_2006': Decimal('2.99'), 'percent_change': Decimal('-97.44')}\n",
      "{'customer_id': 28, 'year_2005': 2005, 'payment_2005': Decimal('108.69'), 'year_2006': 2006, 'payment_2006': Decimal('2.99'), 'percent_change': Decimal('-97.25')}\n",
      "{'customer_id': 29, 'year_2005': 2005, 'payment_2005': Decimal('139.65'), 'year_2006': 2006, 'payment_2006': Decimal('0.99'), 'percent_change': Decimal('-99.29')}\n",
      "{'customer_id': 33, 'year_2005': 2005, 'payment_2005': Decimal('90.80'), 'year_2006': 2006, 'payment_2006': Decimal('0.99'), 'percent_change': Decimal('-98.91')}\n",
      "{'customer_id': 41, 'year_2005': 2005, 'payment_2005': Decimal('115.76'), 'year_2006': 2006, 'payment_2006': Decimal('2.99'), 'percent_change': Decimal('-97.42')}\n",
      "{'customer_id': 42, 'year_2005': 2005, 'payment_2005': Decimal('111.72'), 'year_2006': 2006, 'payment_2006': Decimal('5.98'), 'percent_change': Decimal('-94.65')}\n",
      "{'customer_id': 43, 'year_2005': 2005, 'payment_2005': Decimal('95.78'), 'year_2006': 2006, 'payment_2006': Decimal('3.98'), 'percent_change': Decimal('-95.84')}\n",
      "{'customer_id': 44, 'year_2005': 2005, 'payment_2005': Decimal('109.75'), 'year_2006': 2006, 'payment_2006': Decimal('4.99'), 'percent_change': Decimal('-95.45')}\n",
      "{'customer_id': 52, 'year_2005': 2005, 'payment_2005': Decimal('102.72'), 'year_2006': 2006, 'payment_2006': Decimal('4.99'), 'percent_change': Decimal('-95.14')}\n",
      "{'customer_id': 53, 'year_2005': 2005, 'payment_2005': Decimal('107.72'), 'year_2006': 2006, 'payment_2006': Decimal('7.98'), 'percent_change': Decimal('-92.59')}\n",
      "{'customer_id': 56, 'year_2005': 2005, 'payment_2005': Decimal('130.71'), 'year_2006': 2006, 'payment_2006': Decimal('4.99'), 'percent_change': Decimal('-96.18')}\n",
      "{'customer_id': 58, 'year_2005': 2005, 'payment_2005': Decimal('114.74'), 'year_2006': 2006, 'payment_2006': Decimal('0.99'), 'percent_change': Decimal('-99.14')}\n",
      "{'customer_id': 60, 'year_2005': 2005, 'payment_2005': Decimal('88.77'), 'year_2006': 2006, 'payment_2006': Decimal('9.98'), 'percent_change': Decimal('-88.76')}\n",
      "{'customer_id': 64, 'year_2005': 2005, 'payment_2005': Decimal('95.68'), 'year_2006': 2006, 'payment_2006': Decimal('4.99'), 'percent_change': Decimal('-94.78')}\n",
      "{'customer_id': 69, 'year_2005': 2005, 'payment_2005': Decimal('95.76'), 'year_2006': 2006, 'payment_2006': Decimal('0.99'), 'percent_change': Decimal('-98.97')}\n",
      "{'customer_id': 73, 'year_2005': 2005, 'payment_2005': Decimal('94.77'), 'year_2006': 2006, 'payment_2006': Decimal('2.99'), 'percent_change': Decimal('-96.84')}\n",
      "{'customer_id': 75, 'year_2005': 2005, 'payment_2005': Decimal('146.62'), 'year_2006': 2006, 'payment_2006': Decimal('8.97'), 'percent_change': Decimal('-93.88')}\n",
      "{'customer_id': 80, 'year_2005': 2005, 'payment_2005': Decimal('134.71'), 'year_2006': 2006, 'payment_2006': Decimal('2.99'), 'percent_change': Decimal('-97.78')}\n",
      "{'customer_id': 83, 'year_2005': 2005, 'payment_2005': Decimal('96.76'), 'year_2006': 2006, 'payment_2006': Decimal('4.99'), 'percent_change': Decimal('-94.84')}\n",
      "{'customer_id': 87, 'year_2005': 2005, 'payment_2005': Decimal('140.71'), 'year_2006': 2006, 'payment_2006': Decimal('4.99'), 'percent_change': Decimal('-96.45')}\n",
      "{'customer_id': 91, 'year_2005': 2005, 'payment_2005': Decimal('108.66'), 'year_2006': 2006, 'payment_2006': Decimal('4.99'), 'percent_change': Decimal('-95.41')}\n",
      "{'customer_id': 94, 'year_2005': 2005, 'payment_2005': Decimal('74.80'), 'year_2006': 2006, 'payment_2006': Decimal('4.99'), 'percent_change': Decimal('-93.33')}\n",
      "{'customer_id': 99, 'year_2005': 2005, 'payment_2005': Decimal('90.77'), 'year_2006': 2006, 'payment_2006': Decimal('0.99'), 'percent_change': Decimal('-98.91')}\n",
      "{'customer_id': 100, 'year_2005': 2005, 'payment_2005': Decimal('101.77'), 'year_2006': 2006, 'payment_2006': Decimal('0.99'), 'percent_change': Decimal('-99.03')}\n",
      "{'customer_id': 101, 'year_2005': 2005, 'payment_2005': Decimal('95.77'), 'year_2006': 2006, 'payment_2006': Decimal('0.99'), 'percent_change': Decimal('-98.97')}\n",
      "{'customer_id': 107, 'year_2005': 2005, 'payment_2005': Decimal('124.72'), 'year_2006': 2006, 'payment_2006': Decimal('1.98'), 'percent_change': Decimal('-98.41')}\n",
      "{'customer_id': 108, 'year_2005': 2005, 'payment_2005': Decimal('127.71'), 'year_2006': 2006, 'payment_2006': Decimal('4.99'), 'percent_change': Decimal('-96.09')}\n",
      "{'customer_id': 111, 'year_2005': 2005, 'payment_2005': Decimal('94.75'), 'year_2006': 2006, 'payment_2006': Decimal('2.99'), 'percent_change': Decimal('-96.84')}\n",
      "{'customer_id': 114, 'year_2005': 2005, 'payment_2005': Decimal('134.68'), 'year_2006': 2006, 'payment_2006': Decimal('4.99'), 'percent_change': Decimal('-96.29')}\n",
      "{'customer_id': 115, 'year_2005': 2005, 'payment_2005': Decimal('88.71'), 'year_2006': 2006, 'payment_2006': Decimal('2.99'), 'percent_change': Decimal('-96.63')}\n",
      "{'customer_id': 120, 'year_2005': 2005, 'payment_2005': Decimal('138.69'), 'year_2006': 2006, 'payment_2006': Decimal('4.99'), 'percent_change': Decimal('-96.40')}\n",
      "{'customer_id': 135, 'year_2005': 2005, 'payment_2005': Decimal('109.71'), 'year_2006': 2006, 'payment_2006': Decimal('0.99'), 'percent_change': Decimal('-99.10')}\n",
      "{'customer_id': 142, 'year_2005': 2005, 'payment_2005': Decimal('93.75'), 'year_2006': 2006, 'payment_2006': Decimal('0.99'), 'percent_change': Decimal('-98.94')}\n",
      "{'customer_id': 152, 'year_2005': 2005, 'payment_2005': Decimal('78.80'), 'year_2006': 2006, 'payment_2006': Decimal('4.99'), 'percent_change': Decimal('-93.67')}\n",
      "{'customer_id': 155, 'year_2005': 2005, 'payment_2005': Decimal('101.77'), 'year_2006': 2006, 'payment_2006': Decimal('7.98'), 'percent_change': Decimal('-92.16')}\n",
      "{'customer_id': 162, 'year_2005': 2005, 'payment_2005': Decimal('70.81'), 'year_2006': 2006, 'payment_2006': Decimal('0.99'), 'percent_change': Decimal('-98.60')}\n",
      "{'customer_id': 163, 'year_2005': 2005, 'payment_2005': Decimal('114.73'), 'year_2006': 2006, 'payment_2006': Decimal('7.98'), 'percent_change': Decimal('-93.04')}\n",
      "{'customer_id': 168, 'year_2005': 2005, 'payment_2005': Decimal('134.67'), 'year_2006': 2006, 'payment_2006': Decimal('0.99'), 'percent_change': Decimal('-99.26')}\n",
      "{'customer_id': 175, 'year_2005': 2005, 'payment_2005': Decimal('94.78'), 'year_2006': 2006, 'payment_2006': Decimal('3.98'), 'percent_change': Decimal('-95.80')}\n",
      "{'customer_id': 178, 'year_2005': 2005, 'payment_2005': Decimal('189.62'), 'year_2006': 2006, 'payment_2006': Decimal('4.99'), 'percent_change': Decimal('-97.37')}\n",
      "{'customer_id': 180, 'year_2005': 2005, 'payment_2005': Decimal('93.78'), 'year_2006': 2006, 'payment_2006': Decimal('4.99'), 'percent_change': Decimal('-94.68')}\n",
      "{'customer_id': 181, 'year_2005': 2005, 'payment_2005': Decimal('171.67'), 'year_2006': 2006, 'payment_2006': Decimal('2.99'), 'percent_change': Decimal('-98.26')}\n",
      "{'customer_id': 186, 'year_2005': 2005, 'payment_2005': Decimal('111.70'), 'year_2006': 2006, 'payment_2006': Decimal('2.99'), 'percent_change': Decimal('-97.32')}\n",
      "{'customer_id': 188, 'year_2005': 2005, 'payment_2005': Decimal('89.76'), 'year_2006': 2006, 'payment_2006': Decimal('2.99'), 'percent_change': Decimal('-96.67')}\n",
      "{'customer_id': 190, 'year_2005': 2005, 'payment_2005': Decimal('105.74'), 'year_2006': 2006, 'payment_2006': Decimal('4.99'), 'percent_change': Decimal('-95.28')}\n",
      "{'customer_id': 191, 'year_2005': 2005, 'payment_2005': Decimal('73.81'), 'year_2006': 2006, 'payment_2006': Decimal('0.99'), 'percent_change': Decimal('-98.66')}\n",
      "{'customer_id': 192, 'year_2005': 2005, 'payment_2005': Decimal('94.78'), 'year_2006': 2006, 'payment_2006': Decimal('4.99'), 'percent_change': Decimal('-94.74')}\n",
      "{'customer_id': 193, 'year_2005': 2005, 'payment_2005': Decimal('106.76'), 'year_2006': 2006, 'payment_2006': Decimal('2.99'), 'percent_change': Decimal('-97.20')}\n",
      "{'customer_id': 199, 'year_2005': 2005, 'payment_2005': Decimal('100.76'), 'year_2006': 2006, 'payment_2006': Decimal('2.99'), 'percent_change': Decimal('-97.03')}\n",
      "{'customer_id': 200, 'year_2005': 2005, 'payment_2005': Decimal('133.74'), 'year_2006': 2006, 'payment_2006': Decimal('2.99'), 'percent_change': Decimal('-97.76')}\n",
      "{'customer_id': 208, 'year_2005': 2005, 'payment_2005': Decimal('85.76'), 'year_2006': 2006, 'payment_2006': Decimal('5.98'), 'percent_change': Decimal('-93.03')}\n",
      "{'customer_id': 211, 'year_2005': 2005, 'payment_2005': Decimal('146.67'), 'year_2006': 2006, 'payment_2006': Decimal('4.99'), 'percent_change': Decimal('-96.60')}\n",
      "{'customer_id': 213, 'year_2005': 2005, 'payment_2005': Decimal('108.73'), 'year_2006': 2006, 'payment_2006': Decimal('2.99'), 'percent_change': Decimal('-97.25')}\n",
      "{'customer_id': 214, 'year_2005': 2005, 'payment_2005': Decimal('113.70'), 'year_2006': 2006, 'payment_2006': Decimal('2.99'), 'percent_change': Decimal('-97.37')}\n",
      "{'customer_id': 215, 'year_2005': 2005, 'payment_2005': Decimal('90.75'), 'year_2006': 2006, 'payment_2006': Decimal('0.99'), 'percent_change': Decimal('-98.91')}\n",
      "{'customer_id': 216, 'year_2005': 2005, 'payment_2005': Decimal('89.79'), 'year_2006': 2006, 'payment_2006': Decimal('5.98'), 'percent_change': Decimal('-93.34')}\n",
      "{'customer_id': 219, 'year_2005': 2005, 'payment_2005': Decimal('96.75'), 'year_2006': 2006, 'payment_2006': Decimal('4.99'), 'percent_change': Decimal('-94.84')}\n",
      "{'customer_id': 227, 'year_2005': 2005, 'payment_2005': Decimal('82.77'), 'year_2006': 2006, 'payment_2006': Decimal('4.99'), 'percent_change': Decimal('-93.97')}\n",
      "{'customer_id': 228, 'year_2005': 2005, 'payment_2005': Decimal('88.75'), 'year_2006': 2006, 'payment_2006': Decimal('3.98'), 'percent_change': Decimal('-95.52')}\n",
      "{'customer_id': 229, 'year_2005': 2005, 'payment_2005': Decimal('92.76'), 'year_2006': 2006, 'payment_2006': Decimal('0.99'), 'percent_change': Decimal('-98.93')}\n",
      "{'customer_id': 234, 'year_2005': 2005, 'payment_2005': Decimal('110.75'), 'year_2006': 2006, 'payment_2006': Decimal('0.99'), 'percent_change': Decimal('-99.11')}\n",
      "{'customer_id': 236, 'year_2005': 2005, 'payment_2005': Decimal('174.59'), 'year_2006': 2006, 'payment_2006': Decimal('0.99'), 'percent_change': Decimal('-99.43')}\n",
      "{'customer_id': 244, 'year_2005': 2005, 'payment_2005': Decimal('124.69'), 'year_2006': 2006, 'payment_2006': Decimal('4.99'), 'percent_change': Decimal('-96.00')}\n",
      "{'customer_id': 245, 'year_2005': 2005, 'payment_2005': Decimal('129.69'), 'year_2006': 2006, 'payment_2006': Decimal('2.99'), 'percent_change': Decimal('-97.69')}\n",
      "{'customer_id': 251, 'year_2005': 2005, 'payment_2005': Decimal('119.70'), 'year_2006': 2006, 'payment_2006': Decimal('0.99'), 'percent_change': Decimal('-99.17')}\n",
      "{'customer_id': 252, 'year_2005': 2005, 'payment_2005': Decimal('59.79'), 'year_2006': 2006, 'payment_2006': Decimal('4.99'), 'percent_change': Decimal('-91.65')}\n",
      "{'customer_id': 263, 'year_2005': 2005, 'payment_2005': Decimal('121.72'), 'year_2006': 2006, 'payment_2006': Decimal('0.99'), 'percent_change': Decimal('-99.19')}\n",
      "{'customer_id': 264, 'year_2005': 2005, 'payment_2005': Decimal('95.76'), 'year_2006': 2006, 'payment_2006': Decimal('2.99'), 'percent_change': Decimal('-96.88')}\n",
      "{'customer_id': 267, 'year_2005': 2005, 'payment_2005': Decimal('151.66'), 'year_2006': 2006, 'payment_2006': Decimal('7.98'), 'percent_change': Decimal('-94.74')}\n",
      "{'customer_id': 269, 'year_2005': 2005, 'payment_2005': Decimal('125.72'), 'year_2006': 2006, 'payment_2006': Decimal('3.98'), 'percent_change': Decimal('-96.83')}\n",
      "{'customer_id': 274, 'year_2005': 2005, 'payment_2005': Decimal('151.66'), 'year_2006': 2006, 'payment_2006': Decimal('0.99'), 'percent_change': Decimal('-99.35')}\n",
      "{'customer_id': 279, 'year_2005': 2005, 'payment_2005': Decimal('130.70'), 'year_2006': 2006, 'payment_2006': Decimal('4.99'), 'percent_change': Decimal('-96.18')}\n",
      "{'customer_id': 282, 'year_2005': 2005, 'payment_2005': Decimal('102.74'), 'year_2006': 2006, 'payment_2006': Decimal('0.99'), 'percent_change': Decimal('-99.04')}\n",
      "{'customer_id': 284, 'year_2005': 2005, 'payment_2005': Decimal('120.74'), 'year_2006': 2006, 'payment_2006': Decimal('5.98'), 'percent_change': Decimal('-95.05')}\n",
      "{'customer_id': 287, 'year_2005': 2005, 'payment_2005': Decimal('114.72'), 'year_2006': 2006, 'payment_2006': Decimal('0.99'), 'percent_change': Decimal('-99.14')}\n",
      "{'customer_id': 295, 'year_2005': 2005, 'payment_2005': Decimal('161.63'), 'year_2006': 2006, 'payment_2006': Decimal('0.99'), 'percent_change': Decimal('-99.39')}\n",
      "{'customer_id': 296, 'year_2005': 2005, 'payment_2005': Decimal('126.71'), 'year_2006': 2006, 'payment_2006': Decimal('2.99'), 'percent_change': Decimal('-97.64')}\n",
      "{'customer_id': 300, 'year_2005': 2005, 'payment_2005': Decimal('132.70'), 'year_2006': 2006, 'payment_2006': Decimal('4.99'), 'percent_change': Decimal('-96.24')}\n",
      "{'customer_id': 315, 'year_2005': 2005, 'payment_2005': Decimal('81.84'), 'year_2006': 2006, 'payment_2006': Decimal('2.99'), 'percent_change': Decimal('-96.35')}\n",
      "{'customer_id': 317, 'year_2005': 2005, 'payment_2005': Decimal('113.73'), 'year_2006': 2006, 'payment_2006': Decimal('0.99'), 'percent_change': Decimal('-99.13')}\n",
      "{'customer_id': 324, 'year_2005': 2005, 'payment_2005': Decimal('100.76'), 'year_2006': 2006, 'payment_2006': Decimal('2.99'), 'percent_change': Decimal('-97.03')}\n",
      "{'customer_id': 327, 'year_2005': 2005, 'payment_2005': Decimal('109.75'), 'year_2006': 2006, 'payment_2006': Decimal('2.99'), 'percent_change': Decimal('-97.28')}\n",
      "{'customer_id': 330, 'year_2005': 2005, 'payment_2005': Decimal('91.76'), 'year_2006': 2006, 'payment_2006': Decimal('2.99'), 'percent_change': Decimal('-96.74')}\n",
      "{'customer_id': 334, 'year_2005': 2005, 'payment_2005': Decimal('134.71'), 'year_2006': 2006, 'payment_2006': Decimal('0.99'), 'percent_change': Decimal('-99.27')}\n",
      "{'customer_id': 335, 'year_2005': 2005, 'payment_2005': Decimal('77.78'), 'year_2006': 2006, 'payment_2006': Decimal('0.99'), 'percent_change': Decimal('-98.73')}\n",
      "{'customer_id': 336, 'year_2005': 2005, 'payment_2005': Decimal('118.71'), 'year_2006': 2006, 'payment_2006': Decimal('0.99'), 'percent_change': Decimal('-99.17')}\n",
      "{'customer_id': 337, 'year_2005': 2005, 'payment_2005': Decimal('142.72'), 'year_2006': 2006, 'payment_2006': Decimal('0.99'), 'percent_change': Decimal('-99.31')}\n",
      "{'customer_id': 349, 'year_2005': 2005, 'payment_2005': Decimal('135.72'), 'year_2006': 2006, 'payment_2006': Decimal('2.99'), 'percent_change': Decimal('-97.80')}\n",
      "{'customer_id': 352, 'year_2005': 2005, 'payment_2005': Decimal('96.78'), 'year_2006': 2006, 'payment_2006': Decimal('2.99'), 'percent_change': Decimal('-96.91')}\n",
      "{'customer_id': 354, 'year_2005': 2005, 'payment_2005': Decimal('121.66'), 'year_2006': 2006, 'payment_2006': Decimal('7.98'), 'percent_change': Decimal('-93.44')}\n",
      "{'customer_id': 355, 'year_2005': 2005, 'payment_2005': Decimal('71.81'), 'year_2006': 2006, 'payment_2006': Decimal('0.99'), 'percent_change': Decimal('-98.62')}\n",
      "{'customer_id': 359, 'year_2005': 2005, 'payment_2005': Decimal('96.76'), 'year_2006': 2006, 'payment_2006': Decimal('4.99'), 'percent_change': Decimal('-94.84')}\n",
      "{'customer_id': 361, 'year_2005': 2005, 'payment_2005': Decimal('96.71'), 'year_2006': 2006, 'payment_2006': Decimal('3.98'), 'percent_change': Decimal('-95.88')}\n",
      "{'customer_id': 366, 'year_2005': 2005, 'payment_2005': Decimal('147.64'), 'year_2006': 2006, 'payment_2006': Decimal('4.99'), 'percent_change': Decimal('-96.62')}\n",
      "{'customer_id': 369, 'year_2005': 2005, 'payment_2005': Decimal('87.76'), 'year_2006': 2006, 'payment_2006': Decimal('0.99'), 'percent_change': Decimal('-98.87')}\n",
      "{'customer_id': 373, 'year_2005': 2005, 'payment_2005': Decimal('160.66'), 'year_2006': 2006, 'payment_2006': Decimal('0.99'), 'percent_change': Decimal('-99.38')}\n",
      "{'customer_id': 374, 'year_2005': 2005, 'payment_2005': Decimal('100.73'), 'year_2006': 2006, 'payment_2006': Decimal('2.99'), 'percent_change': Decimal('-97.03')}\n",
      "{'customer_id': 388, 'year_2005': 2005, 'payment_2005': Decimal('123.71'), 'year_2006': 2006, 'payment_2006': Decimal('0.99'), 'percent_change': Decimal('-99.20')}\n",
      "{'customer_id': 394, 'year_2005': 2005, 'payment_2005': Decimal('79.79'), 'year_2006': 2006, 'payment_2006': Decimal('4.99'), 'percent_change': Decimal('-93.75')}\n",
      "{'customer_id': 405, 'year_2005': 2005, 'payment_2005': Decimal('108.69'), 'year_2006': 2006, 'payment_2006': Decimal('0.99'), 'percent_change': Decimal('-99.09')}\n",
      "{'customer_id': 410, 'year_2005': 2005, 'payment_2005': Decimal('164.63'), 'year_2006': 2006, 'payment_2006': Decimal('2.99'), 'percent_change': Decimal('-98.18')}\n",
      "{'customer_id': 411, 'year_2005': 2005, 'payment_2005': Decimal('75.75'), 'year_2006': 2006, 'payment_2006': Decimal('4.99'), 'percent_change': Decimal('-93.41')}\n",
      "{'customer_id': 412, 'year_2005': 2005, 'payment_2005': Decimal('84.80'), 'year_2006': 2006, 'payment_2006': Decimal('0.99'), 'percent_change': Decimal('-98.83')}\n",
      "{'customer_id': 417, 'year_2005': 2005, 'payment_2005': Decimal('107.76'), 'year_2006': 2006, 'payment_2006': Decimal('2.99'), 'percent_change': Decimal('-97.23')}\n",
      "{'customer_id': 421, 'year_2005': 2005, 'payment_2005': Decimal('118.74'), 'year_2006': 2006, 'payment_2006': Decimal('0.99'), 'percent_change': Decimal('-99.17')}\n",
      "{'customer_id': 422, 'year_2005': 2005, 'payment_2005': Decimal('94.75'), 'year_2006': 2006, 'payment_2006': Decimal('2.99'), 'percent_change': Decimal('-96.84')}\n",
      "{'customer_id': 424, 'year_2005': 2005, 'payment_2005': Decimal('109.71'), 'year_2006': 2006, 'payment_2006': Decimal('0.99'), 'percent_change': Decimal('-99.10')}\n",
      "{'customer_id': 431, 'year_2005': 2005, 'payment_2005': Decimal('92.78'), 'year_2006': 2006, 'payment_2006': Decimal('2.99'), 'percent_change': Decimal('-96.78')}\n",
      "{'customer_id': 438, 'year_2005': 2005, 'payment_2005': Decimal('133.68'), 'year_2006': 2006, 'payment_2006': Decimal('0.99'), 'percent_change': Decimal('-99.26')}\n",
      "{'customer_id': 440, 'year_2005': 2005, 'payment_2005': Decimal('83.79'), 'year_2006': 2006, 'payment_2006': Decimal('4.99'), 'percent_change': Decimal('-94.04')}\n",
      "{'customer_id': 441, 'year_2005': 2005, 'payment_2005': Decimal('107.73'), 'year_2006': 2006, 'payment_2006': Decimal('4.99'), 'percent_change': Decimal('-95.37')}\n",
      "{'customer_id': 448, 'year_2005': 2005, 'payment_2005': Decimal('131.73'), 'year_2006': 2006, 'payment_2006': Decimal('3.98'), 'percent_change': Decimal('-96.98')}\n",
      "{'customer_id': 450, 'year_2005': 2005, 'payment_2005': Decimal('88.75'), 'year_2006': 2006, 'payment_2006': Decimal('0.99'), 'percent_change': Decimal('-98.88')}\n",
      "{'customer_id': 452, 'year_2005': 2005, 'payment_2005': Decimal('102.69'), 'year_2006': 2006, 'payment_2006': Decimal('4.99'), 'percent_change': Decimal('-95.14')}\n",
      "{'customer_id': 457, 'year_2005': 2005, 'payment_2005': Decimal('110.74'), 'year_2006': 2006, 'payment_2006': Decimal('3.98'), 'percent_change': Decimal('-96.41')}\n",
      "{'customer_id': 472, 'year_2005': 2005, 'payment_2005': Decimal('136.71'), 'year_2006': 2006, 'payment_2006': Decimal('4.99'), 'percent_change': Decimal('-96.35')}\n",
      "{'customer_id': 474, 'year_2005': 2005, 'payment_2005': Decimal('99.75'), 'year_2006': 2006, 'payment_2006': Decimal('0.99'), 'percent_change': Decimal('-99.01')}\n",
      "{'customer_id': 476, 'year_2005': 2005, 'payment_2005': Decimal('94.79'), 'year_2006': 2006, 'payment_2006': Decimal('0.99'), 'percent_change': Decimal('-98.96')}\n",
      "{'customer_id': 479, 'year_2005': 2005, 'payment_2005': Decimal('145.70'), 'year_2006': 2006, 'payment_2006': Decimal('0.99'), 'percent_change': Decimal('-99.32')}\n",
      "{'customer_id': 493, 'year_2005': 2005, 'payment_2005': Decimal('109.78'), 'year_2006': 2006, 'payment_2006': Decimal('2.99'), 'percent_change': Decimal('-97.28')}\n",
      "{'customer_id': 495, 'year_2005': 2005, 'payment_2005': Decimal('119.75'), 'year_2006': 2006, 'payment_2006': Decimal('0.99'), 'percent_change': Decimal('-99.17')}\n",
      "{'customer_id': 496, 'year_2005': 2005, 'payment_2005': Decimal('85.80'), 'year_2006': 2006, 'payment_2006': Decimal('2.99'), 'percent_change': Decimal('-96.52')}\n",
      "{'customer_id': 497, 'year_2005': 2005, 'payment_2005': Decimal('124.73'), 'year_2006': 2006, 'payment_2006': Decimal('4.99'), 'percent_change': Decimal('-96.00')}\n",
      "{'customer_id': 505, 'year_2005': 2005, 'payment_2005': Decimal('92.80'), 'year_2006': 2006, 'payment_2006': Decimal('4.99'), 'percent_change': Decimal('-94.62')}\n",
      "{'customer_id': 508, 'year_2005': 2005, 'payment_2005': Decimal('126.76'), 'year_2006': 2006, 'payment_2006': Decimal('0.99'), 'percent_change': Decimal('-99.22')}\n",
      "{'customer_id': 512, 'year_2005': 2005, 'payment_2005': Decimal('114.75'), 'year_2006': 2006, 'payment_2006': Decimal('0.99'), 'percent_change': Decimal('-99.14')}\n",
      "{'customer_id': 516, 'year_2005': 2005, 'payment_2005': Decimal('92.76'), 'year_2006': 2006, 'payment_2006': Decimal('5.98'), 'percent_change': Decimal('-93.55')}\n",
      "{'customer_id': 521, 'year_2005': 2005, 'payment_2005': Decimal('75.78'), 'year_2006': 2006, 'payment_2006': Decimal('4.99'), 'percent_change': Decimal('-93.42')}\n",
      "{'customer_id': 525, 'year_2005': 2005, 'payment_2005': Decimal('71.82'), 'year_2006': 2006, 'payment_2006': Decimal('2.99'), 'percent_change': Decimal('-95.84')}\n",
      "{'customer_id': 527, 'year_2005': 2005, 'payment_2005': Decimal('78.77'), 'year_2006': 2006, 'payment_2006': Decimal('2.99'), 'percent_change': Decimal('-96.20')}\n",
      "{'customer_id': 530, 'year_2005': 2005, 'payment_2005': Decimal('73.78'), 'year_2006': 2006, 'payment_2006': Decimal('2.99'), 'percent_change': Decimal('-95.95')}\n",
      "{'customer_id': 532, 'year_2005': 2005, 'payment_2005': Decimal('151.69'), 'year_2006': 2006, 'payment_2006': Decimal('0.99'), 'percent_change': Decimal('-99.35')}\n",
      "{'customer_id': 533, 'year_2005': 2005, 'payment_2005': Decimal('138.68'), 'year_2006': 2006, 'payment_2006': Decimal('2.99'), 'percent_change': Decimal('-97.84')}\n",
      "{'customer_id': 534, 'year_2005': 2005, 'payment_2005': Decimal('85.77'), 'year_2006': 2006, 'payment_2006': Decimal('2.99'), 'percent_change': Decimal('-96.51')}\n",
      "{'customer_id': 537, 'year_2005': 2005, 'payment_2005': Decimal('98.76'), 'year_2006': 2006, 'payment_2006': Decimal('4.99'), 'percent_change': Decimal('-94.95')}\n",
      "{'customer_id': 548, 'year_2005': 2005, 'payment_2005': Decimal('78.82'), 'year_2006': 2006, 'payment_2006': Decimal('0.99'), 'percent_change': Decimal('-98.74')}\n",
      "{'customer_id': 550, 'year_2005': 2005, 'payment_2005': Decimal('156.69'), 'year_2006': 2006, 'payment_2006': Decimal('2.99'), 'percent_change': Decimal('-98.09')}\n",
      "{'customer_id': 557, 'year_2005': 2005, 'payment_2005': Decimal('68.77'), 'year_2006': 2006, 'payment_2006': Decimal('4.99'), 'percent_change': Decimal('-92.74')}\n",
      "{'customer_id': 560, 'year_2005': 2005, 'payment_2005': Decimal('126.72'), 'year_2006': 2006, 'payment_2006': Decimal('5.98'), 'percent_change': Decimal('-95.28')}\n",
      "{'customer_id': 561, 'year_2005': 2005, 'payment_2005': Decimal('95.74'), 'year_2006': 2006, 'payment_2006': Decimal('0.99'), 'percent_change': Decimal('-98.97')}\n",
      "{'customer_id': 568, 'year_2005': 2005, 'payment_2005': Decimal('63.80'), 'year_2006': 2006, 'payment_2006': Decimal('2.99'), 'percent_change': Decimal('-95.31')}\n",
      "{'customer_id': 570, 'year_2005': 2005, 'payment_2005': Decimal('98.75'), 'year_2006': 2006, 'payment_2006': Decimal('0.99'), 'percent_change': Decimal('-99.00')}\n",
      "{'customer_id': 576, 'year_2005': 2005, 'payment_2005': Decimal('133.68'), 'year_2006': 2006, 'payment_2006': Decimal('5.98'), 'percent_change': Decimal('-95.53')}\n",
      "{'customer_id': 579, 'year_2005': 2005, 'payment_2005': Decimal('110.74'), 'year_2006': 2006, 'payment_2006': Decimal('0.99'), 'percent_change': Decimal('-99.11')}\n",
      "{'customer_id': 582, 'year_2005': 2005, 'payment_2005': Decimal('110.76'), 'year_2006': 2006, 'payment_2006': Decimal('2.99'), 'percent_change': Decimal('-97.30')}\n",
      "{'customer_id': 585, 'year_2005': 2005, 'payment_2005': Decimal('112.77'), 'year_2006': 2006, 'payment_2006': Decimal('4.99'), 'percent_change': Decimal('-95.58')}\n",
      "{'customer_id': 587, 'year_2005': 2005, 'payment_2005': Decimal('107.75'), 'year_2006': 2006, 'payment_2006': Decimal('0.99'), 'percent_change': Decimal('-99.08')}\n",
      "{'customer_id': 590, 'year_2005': 2005, 'payment_2005': Decimal('109.76'), 'year_2006': 2006, 'payment_2006': Decimal('2.99'), 'percent_change': Decimal('-97.28')}\n",
      "{'customer_id': 592, 'year_2005': 2005, 'payment_2005': Decimal('110.72'), 'year_2006': 2006, 'payment_2006': Decimal('0.99'), 'percent_change': Decimal('-99.11')}\n",
      "{'customer_id': 596, 'year_2005': 2005, 'payment_2005': Decimal('95.73'), 'year_2006': 2006, 'payment_2006': Decimal('0.99'), 'percent_change': Decimal('-98.97')}\n",
      "{'customer_id': 597, 'year_2005': 2005, 'payment_2005': Decimal('94.76'), 'year_2006': 2006, 'payment_2006': Decimal('4.99'), 'percent_change': Decimal('-94.73')}\n"
     ]
    }
   ],
   "source": [
    "# Bonus: Math on Columns from Joined Tables (Example: Payment Percent Change Year-over-Year)\n",
    "query = \"\"\"\n",
    "WITH payments_by_year AS (\n",
    "    SELECT customer_id, YEAR(payment_date) AS year, SUM(amount) AS yearly_payment\n",
    "    FROM payment\n",
    "    GROUP BY customer_id, year\n",
    ")\n",
    "SELECT p1.customer_id, p1.year AS year_2005, p1.yearly_payment AS payment_2005,\n",
    "       p2.year AS year_2006, p2.yearly_payment AS payment_2006,\n",
    "       ROUND((p2.yearly_payment - p1.yearly_payment) / p1.yearly_payment * 100, 2) AS percent_change\n",
    "FROM payments_by_year p1\n",
    "JOIN payments_by_year p2\n",
    "ON p1.customer_id = p2.customer_id\n",
    "AND p1.year = 2005\n",
    "AND p2.year = 2006;\n",
    "\"\"\"\n",
    "cursor.execute(query)\n",
    "for row in cursor.fetchall():\n",
    "    print(row)\n"
   ]
  },
  {
   "cell_type": "markdown",
   "id": "2a82cf24-05e5-4c15-8467-3c2941828a2c",
   "metadata": {},
   "source": [
    "# Chapter 7"
   ]
  },
  {
   "cell_type": "markdown",
   "id": "47b8c59d-e833-4030-b1d7-591bf0bca49e",
   "metadata": {},
   "source": [
    "Chapter 7 queries are performed in SQLite in the notebook"
   ]
  },
  {
   "cell_type": "code",
   "execution_count": 107,
   "id": "47187d38-1b6c-410b-acfd-fcaaff5c818f",
   "metadata": {},
   "outputs": [],
   "source": [
    "# First - Connect to SQLite ( sakila.db exists locally)\n",
    "import sqlite3\n",
    "\n",
    "conn = sqlite3.connect('sakila.db')\n",
    "cursor = conn.cursor()\n"
   ]
  },
  {
   "cell_type": "code",
   "execution_count": 115,
   "id": "8952f1c5-0455-442c-8929-fb9352eb7647",
   "metadata": {},
   "outputs": [],
   "source": [
    "# Primary Key & Foreign Key Check (PRAGMA)\n",
    "# To inspect the structure of the payment table:\n",
    "\n",
    "query = \"PRAGMA table_info(payment)\"\n",
    "cursor.execute(query)\n",
    "for row in cursor.fetchall():\n",
    "    print(row)\n"
   ]
  },
  {
   "cell_type": "code",
   "execution_count": 117,
   "id": "2f2157c6-3dcb-483c-ac80-3049a68d2b05",
   "metadata": {},
   "outputs": [
    {
     "name": "stdout",
     "output_type": "stream",
     "text": [
      "New customer table with UNIQUE email created.\n"
     ]
    }
   ],
   "source": [
    "# Add UNIQUE Constraint (Email in Customer Table)\n",
    "# SQLite only supports adding unique constraints when the table is first created. If modifying an existing table, you need to rebuild the table.\n",
    "query = \"\"\"\n",
    "CREATE TABLE IF NOT EXISTS customer_new (\n",
    "    customer_id INTEGER PRIMARY KEY,\n",
    "    first_name TEXT,\n",
    "    last_name TEXT,\n",
    "    email TEXT UNIQUE,\n",
    "    active INTEGER\n",
    ")\n",
    "\"\"\"\n",
    "cursor.execute(query)\n",
    "print(\"New customer table with UNIQUE email created.\")\n"
   ]
  },
  {
   "cell_type": "code",
   "execution_count": 119,
   "id": "9648108e-1327-44ae-a8f6-920888c9073e",
   "metadata": {},
   "outputs": [
    {
     "name": "stdout",
     "output_type": "stream",
     "text": [
      "New payment table with NOT NULL on amount created.\n"
     ]
    }
   ],
   "source": [
    "# Add NOT NULL Constraint (on amount in payment)\n",
    "# Again, you can't directly ALTER COLUMN in SQLite — you need to rebuild the table if schema changes are required.\n",
    "\n",
    "# Example for new payment table:\n",
    "query = \"\"\"\n",
    "CREATE TABLE IF NOT EXISTS payment_new (\n",
    "    payment_id INTEGER PRIMARY KEY,\n",
    "    customer_id INTEGER,\n",
    "    amount REAL NOT NULL,\n",
    "    payment_date TEXT,\n",
    "    FOREIGN KEY(customer_id) REFERENCES customer(customer_id)\n",
    ")\n",
    "\"\"\"\n",
    "cursor.execute(query)\n",
    "print(\"New payment table with NOT NULL on amount created.\")\n"
   ]
  },
  {
   "cell_type": "code",
   "execution_count": 121,
   "id": "a2c5f22d-e062-460b-939e-69b15aea3034",
   "metadata": {},
   "outputs": [
    {
     "name": "stdout",
     "output_type": "stream",
     "text": [
      "New customer table with CHECK constraint on active created.\n"
     ]
    }
   ],
   "source": [
    "# CHECK Constraint (e.g., enforce active in customer table is 0 or 1)\n",
    "# In SQLite:\n",
    "query = \"\"\"\n",
    "CREATE TABLE IF NOT EXISTS customer_checked (\n",
    "    customer_id INTEGER PRIMARY KEY,\n",
    "    first_name TEXT,\n",
    "    last_name TEXT,\n",
    "    email TEXT,\n",
    "    active INTEGER CHECK(active IN (0, 1))\n",
    ")\n",
    "\"\"\"\n",
    "cursor.execute(query)\n",
    "print(\"New customer table with CHECK constraint on active created.\")\n"
   ]
  },
  {
   "cell_type": "code",
   "execution_count": 123,
   "id": "9f8764d8-b690-4d98-86bc-ff8984a2d9f4",
   "metadata": {},
   "outputs": [
    {
     "name": "stdout",
     "output_type": "stream",
     "text": [
      "Composite Primary Key table created.\n"
     ]
    }
   ],
   "source": [
    "# Composite Primary Key Example (Inventory-Rental Link Table)\n",
    "query = \"\"\"\n",
    "CREATE TABLE IF NOT EXISTS inventory_rental_link (\n",
    "    inventory_id INTEGER,\n",
    "    rental_id INTEGER,\n",
    "    PRIMARY KEY (inventory_id, rental_id)\n",
    ")\n",
    "\"\"\"\n",
    "cursor.execute(query)\n",
    "print(\"Composite Primary Key table created.\")\n"
   ]
  },
  {
   "cell_type": "code",
   "execution_count": 133,
   "id": "c7eda59c-c760-4997-9587-38fcb0f26769",
   "metadata": {},
   "outputs": [
    {
     "name": "stdout",
     "output_type": "stream",
     "text": [
      "Sample data inserted into payment_new\n",
      "Total Revenue: $16.48, Average Payment: $5.49\n"
     ]
    }
   ],
   "source": [
    "# Aggregate Functions (SUM, AVG - Total and Average Payment)\n",
    "query = \"\"\"\n",
    "INSERT INTO payment_new (payment_id, customer_id, amount, payment_date)\n",
    "VALUES\n",
    "    (1, 1, 5.99, '2024-02-28'),\n",
    "    (2, 2, 2.99, '2024-02-28'),\n",
    "    (3, 3, 7.50, '2024-02-28')\n",
    "\"\"\"\n",
    "cursor.execute(query)\n",
    "conn.commit()\n",
    "print(\"Sample data inserted into payment_new\")\n",
    "\n",
    "# Aggregate Functions (SUM, AVG - Total and Average Payment)\n",
    "query = \"\"\"\n",
    "SELECT SUM(amount) AS total_revenue, AVG(amount) AS avg_payment\n",
    "FROM payment_new\n",
    "\"\"\"\n",
    "cursor.execute(query)\n",
    "for row in cursor.fetchall():\n",
    "    print(f\"Total Revenue: ${row[0]:.2f}, Average Payment: ${row[1]:.2f}\")\n"
   ]
  },
  {
   "cell_type": "code",
   "execution_count": 139,
   "id": "c9b2529a-0275-418d-b41e-18dbf3c4ffe3",
   "metadata": {},
   "outputs": [],
   "source": [
    "# Find Missing Foreign Key Matches (Customers with No Payments)\n",
    "\n",
    "query = \"\"\"\n",
    "SELECT customer_checked.customer_id, customer_checked.first_name, customer_checked.last_name\n",
    "FROM customer_checked\n",
    "LEFT JOIN payment_new ON customer_checked.customer_id = payment_new.customer_id\n",
    "WHERE payment_new.payment_id IS NULL\n",
    "\"\"\"\n",
    "cursor.execute(query)\n",
    "for row in cursor.fetchall():\n",
    "    print(row)\n"
   ]
  },
  {
   "cell_type": "code",
   "execution_count": 143,
   "id": "2d495241-0836-47b3-9cd6-b40580705678",
   "metadata": {},
   "outputs": [
    {
     "name": "stdout",
     "output_type": "stream",
     "text": [
      "Index created on customer.last_name\n"
     ]
    }
   ],
   "source": [
    "# Index Creation (Index on last_name)\n",
    "query = \"\"\"\n",
    "CREATE INDEX IF NOT EXISTS idx_last_name ON customer_checked(last_name)\n",
    "\"\"\"\n",
    "cursor.execute(query)\n",
    "print(\"Index created on customer.last_name\")\n"
   ]
  },
  {
   "cell_type": "code",
   "execution_count": 145,
   "id": "60e3bbd9-5d0f-4af7-925a-829f767a5ad7",
   "metadata": {},
   "outputs": [
    {
     "name": "stdout",
     "output_type": "stream",
     "text": [
      "(3, 0, 0, 'SEARCH customer_checked USING INDEX idx_last_name (last_name=?)')\n"
     ]
    }
   ],
   "source": [
    "# Query Performance Check (EXPLAIN Equivalent)\n",
    "query = \"\"\"\n",
    "EXPLAIN QUERY PLAN SELECT * FROM customer_checked WHERE last_name = 'SMITH'\n",
    "\"\"\"\n",
    "cursor.execute(query)\n",
    "for row in cursor.fetchall():\n",
    "    print(row)\n"
   ]
  },
  {
   "cell_type": "markdown",
   "id": "0ffec94d-4793-4d72-8c18-9caddc795285",
   "metadata": {},
   "source": [
    "Since SQLite is a lighter database:\n",
    "\n",
    "- Constraints like CHECK are supported but enforcement is not as strict.\n",
    "- Schema alterations require table rebuilds (like the UNIQUE and NOT NULL examples).\n"
   ]
  }
 ],
 "metadata": {
  "kernelspec": {
   "display_name": "Python 3 (ipykernel)",
   "language": "python",
   "name": "python3"
  },
  "language_info": {
   "codemirror_mode": {
    "name": "ipython",
    "version": 3
   },
   "file_extension": ".py",
   "mimetype": "text/x-python",
   "name": "python",
   "nbconvert_exporter": "python",
   "pygments_lexer": "ipython3",
   "version": "3.12.7"
  }
 },
 "nbformat": 4,
 "nbformat_minor": 5
}
